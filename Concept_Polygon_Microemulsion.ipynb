import matplotlib.pyplot as plt

def connect_points(points):
    # สร้างลิสต์เก็บเวกเตอร์ที่ต่อเข้าด้วยกัน
    vectors = []
    num_points = len(points)

    # สร้างเวกเตอร์ที่เชื่อมจุดทั้งหมดในรูปหลายเหลี่ยม
    for i in range(num_points):
        vector = [points[(i+1)%num_points][0] - points[i][0], points[(i+1)%num_points][1] - points[i][1]]
        vectors.append(vector)

    # พล็อตเส้นเชื่อมต่อระหว่างจุด
    for vector in vectors:
        plt.arrow(points[i][0], points[i][1], vector[0], vector[1], head_width=0.1, head_length=0.2, fc='blue', ec='blue')

    # พล็อตจุดบนกราฟ
    for point in points:
        plt.scatter(point[0], point[1], color='red')

    # แสดงกราฟ
    plt.show()

# ตัวอย่างจุดในรูปหลายเหลี่ยม
points = [[0, 0], [1, 1], [2, 0], [1, -1]]
connect_points(points)
