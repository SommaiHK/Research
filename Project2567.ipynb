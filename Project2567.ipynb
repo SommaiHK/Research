{
  "cells": [
    {
      "cell_type": "markdown",
      "metadata": {
        "id": "view-in-github",
        "colab_type": "text"
      },
      "source": [
        "<a href=\"https://colab.research.google.com/github/SommaiHK/Research/blob/main/Project2567.ipynb\" target=\"_parent\"><img src=\"https://colab.research.google.com/assets/colab-badge.svg\" alt=\"Open In Colab\"/></a>"
      ]
    },
    {
      "cell_type": "code",
      "execution_count": 4,
      "metadata": {
        "id": "KTgttJQ2t2qQ"
      },
      "outputs": [],
      "source": [
        "import pandas as pd\n",
        "import plotly.graph_objects as go\n",
        "import plotly.io as pio\n",
        "\n",
        "# อ่านข้อมูลจากไฟล์ Excel\n",
        "file_path = 'coordinates_data.xlsx'  # แทนที่ชื่อไฟล์ .xlsx ที่ต้องการใช้งาน\n",
        "df = pd.read_excel(file_path)\n",
        "\n",
        "# ดึงข้อมูลจาก DataFrame ไปยังตัวแปร x, y, z\n",
        "x = df['X'].tolist()\n",
        "y = df['Y'].tolist()\n",
        "z = df['Z'].tolist()\n",
        "\n",
        "# Create a scatter plot using the coordinates of the polygon\n",
        "fig = go.Figure()\n",
        "\n",
        "# Add the polygon vertices\n",
        "fig.add_trace(go.Scatter3d(\n",
        "    x=x,\n",
        "    y=y,\n",
        "    z=z,\n",
        "    mode='markers+lines',\n",
        "    marker=dict(size=5, color='blue', symbol='circle'),\n",
        "    line=dict(color='blue', width=2),\n",
        "    name='Polygon'\n",
        "))\n",
        "\n",
        "# Create Layout\n",
        "fig.update_layout(\n",
        "    title='3D Polygon from Given Coordinates',\n",
        "    scene=dict(\n",
        "        xaxis=dict(title='X-axis'),\n",
        "        yaxis=dict(title='Y-axis'),\n",
        "        zaxis=dict(title='Z-axis'),\n",
        "    ),\n",
        "    width=800,\n",
        "    height=600\n",
        ")\n",
        "\n",
        "# Save the coordinates as an Excel file\n",
        "data = {'X': x, 'Y': y, 'Z': z}\n",
        "df = pd.DataFrame(data)\n",
        "df.to_excel('coordinates_data2.xlsx', index=False)\n",
        "\n",
        "# Save the plot as an HTML file\n",
        "pio.write_html(fig, '3d_polygon_plot.html')\n"
      ]
    }
  ],
  "metadata": {
    "colab": {
      "provenance": [],
      "authorship_tag": "ABX9TyPHm0wfQ3W+0RQKzEesmmR5",
      "include_colab_link": true
    },
    "kernelspec": {
      "display_name": "Python 3",
      "name": "python3"
    },
    "language_info": {
      "name": "python"
    }
  },
  "nbformat": 4,
  "nbformat_minor": 0
}